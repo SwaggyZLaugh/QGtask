{
 "cells": [
  {
   "cell_type": "code",
   "execution_count": 1,
   "metadata": {},
   "outputs": [],
   "source": [
    "import re    #正则表达式，进行文字匹配\n",
    "import urllib   #获取网页数据\n",
    "from bs4 import BeautifulSoup   #网页解析，获取数据"
   ]
  },
  {
   "cell_type": "markdown",
   "metadata": {},
   "source": [
    "# 获取数据"
   ]
  },
  {
   "cell_type": "code",
   "execution_count": 2,
   "metadata": {},
   "outputs": [],
   "source": [
    "baseurl = \"https://movie.douban.com/top250?start=\"\n",
    "\n",
    "head = {\n",
    "    \"User-Agent\": \"Mozilla/5.0 (Windows NT 10.0; Win64; x64) AppleWebKit/537.36 (KHTML, like Gecko) Chrome/89.0.4389.128 Safari/537.36\"\n",
    "}#模拟浏览器头部信息\n",
    "\n",
    "html_list = []\n",
    "\n",
    "for i in range(10):                                                   #获取十次网页内容\n",
    "    url = baseurl+str(i*25)\n",
    "    request = urllib.request.Request(url,headers=head)                #发送请求\n",
    "    try:\n",
    "        response = urllib.request.urlopen(request,timeout=5)          #获取反应\n",
    "        html=response.read().decode(\"utf-8\")                          #获取网页内容\n",
    "        html_list.append(html)\n",
    "    except urllib.error.URLError as e:\n",
    "        if hasattr(e,\"code\"):\n",
    "              print(e.code)\n",
    "        if hasattr(e,\"reason\"):\n",
    "              print(e.reason)"
   ]
  },
  {
   "cell_type": "markdown",
   "metadata": {},
   "source": [
    "# 数据解析"
   ]
  },
  {
   "cell_type": "code",
   "execution_count": 3,
   "metadata": {},
   "outputs": [],
   "source": [
    "data_list = []\n",
    "for i in range(10):\n",
    "    soup = BeautifulSoup(html_list[i],\"html.parser\")\n",
    "    for item in soup.find_all(\"div\",class_=\"item\"):\n",
    "        data=[]\n",
    "        item=str(item)\n",
    "        title=re.findall(re.compile(r'<span class=\"title\">(.*)</span>'),item)[0]#添加电影标题\n",
    "        data.append(title)\n",
    "\n",
    "        inf=re.findall(re.compile(r'<p class=\"\">(.*?)</p>',re.S),item)[0]#获取导演与年份的相关信息\n",
    "        \n",
    "        director=re.findall(re.compile(r'导演: ([\\u4e00-\\u9fa5]{0,}.[\\u4e00-\\u9fa5]{0,})'),inf)[0]#添加电影导演\n",
    "        data.append(director)\n",
    "        \n",
    "        year=re.findall(re.compile(r'(\\d{4})'),inf)[0]#添加电影年份\n",
    "        data.append(year)\n",
    "        \n",
    "        rating=re.findall(re.compile(r'<span class=\"rating_num\" property=\"v:average\">(.*)</span>'),item)[0]#添加电影评分\n",
    "        data.append(rating)\n",
    "        \n",
    "        people=re.findall(re.compile(r'<span>(\\d*)人评价</span>'),item)[0]#添加评价人数\n",
    "        data.append(people)\n",
    "        \n",
    "        inq=re.findall(re.compile(r'<span class=\"inq\">(.*)</span>'),item)#添加剧情介绍\n",
    "        if len(inq)==0 :\n",
    "            data.append(\" \")\n",
    "        else:\n",
    "            data.append(inq[0])\n",
    "        data_list.append(data)"
   ]
  },
  {
   "cell_type": "code",
   "execution_count": 4,
   "metadata": {},
   "outputs": [
    {
     "data": {
      "text/plain": [
       "['肖申克的救赎', '弗兰克·德拉邦特', '1994', '9.7', '2341596', '希望让人自由。']"
      ]
     },
     "execution_count": 4,
     "metadata": {},
     "output_type": "execute_result"
    }
   ],
   "source": [
    "data_list[0]"
   ]
  },
  {
   "cell_type": "markdown",
   "metadata": {},
   "source": [
    "# 保存数据"
   ]
  },
  {
   "cell_type": "code",
   "execution_count": 5,
   "metadata": {},
   "outputs": [],
   "source": [
    "import pymysql\n",
    "\n",
    "conn = pymysql.connect(  # 连接本地数据库\n",
    "    host=\"localhost\",\n",
    "    user=\"root\",\n",
    "    password=\"ZHAOlangQq887763\", # 填上自己的密码\n",
    "    database=\"qgtask\",\n",
    "    charset=\"utf8\"\n",
    ")\n",
    "\n",
    "cursor = conn.cursor()  # 得到一个可以执行SQL语句的光标对象"
   ]
  },
  {
   "cell_type": "code",
   "execution_count": 6,
   "metadata": {},
   "outputs": [],
   "source": [
    "sql = '''\n",
    "    CREATE TABLE doubantop250 (\n",
    "    number INT auto_increment PRIMARY KEY,\n",
    "    title VARCHAR(50),\n",
    "    director VARCHAR(50),\n",
    "    year INT,\n",
    "    rating FLOAT,\n",
    "    people INT,\n",
    "    inq VARCHAR(50)\n",
    "    )\n",
    "'''\n",
    "try:\n",
    "    cursor.execute(sql)\n",
    "except Exception as e:\n",
    "    print(e)\n",
    "    # 发生错误则回滚\n",
    "    conn.rollback()"
   ]
  },
  {
   "cell_type": "code",
   "execution_count": 7,
   "metadata": {},
   "outputs": [],
   "source": [
    "sql = \"\"\"\n",
    "    INSERT INTO doubantop250(title,director,year,rating,people,inq)\n",
    "    VALUES(%s, %s, %s, %s, %s, %s)\n",
    "\"\"\"\n",
    "for data in data_list:\n",
    "    try:\n",
    "        # 执行sql语句\n",
    "        cursor.execute(sql,(data[0],data[1],data[2],data[3],data[4],data[5]))\n",
    "        # 提交执行\n",
    "        conn.commit()\n",
    "    except Exception as e:\n",
    "        print(e)\n",
    "        # 发生错误则回滚\n",
    "        conn.rollback()\n"
   ]
  },
  {
   "cell_type": "code",
   "execution_count": null,
   "metadata": {},
   "outputs": [],
   "source": []
  }
 ],
 "metadata": {
  "kernelspec": {
   "display_name": "Python 3",
   "language": "python",
   "name": "python3"
  },
  "language_info": {
   "codemirror_mode": {
    "name": "ipython",
    "version": 3
   },
   "file_extension": ".py",
   "mimetype": "text/x-python",
   "name": "python",
   "nbconvert_exporter": "python",
   "pygments_lexer": "ipython3",
   "version": "3.8.5"
  }
 },
 "nbformat": 4,
 "nbformat_minor": 4
}
